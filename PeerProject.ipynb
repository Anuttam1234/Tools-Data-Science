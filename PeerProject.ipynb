{
 "cells": [
  {
   "cell_type": "markdown",
   "id": "3d34c554-b7bd-466e-91af-20ae5f01d836",
   "metadata": {},
   "source": [
    "<h1>My Jupyter Notebook on IBM Watson Studio<h1>"
   ]
  },
  {
   "cell_type": "markdown",
   "id": "fa5890f6-2310-44b5-ab6a-b290e4202039",
   "metadata": {},
   "source": [
    "**Anuttam Kumar Pal** Analyst"
   ]
  },
  {
   "cell_type": "markdown",
   "id": "b1830021-cd07-44ea-bd04-e9af2c33b61c",
   "metadata": {},
   "source": [
    "*I am interested in data science because I love to play with data*"
   ]
  },
  {
   "cell_type": "markdown",
   "id": "8a72f0dc-d70c-4b93-ab62-5af873297e03",
   "metadata": {},
   "source": [
    "<h3>Following code will print Fibonacci series for a certain range<h3>"
   ]
  },
  {
   "cell_type": "code",
   "execution_count": 1,
   "id": "52bf1376-ba72-4809-9d4b-e75b50dbc5ab",
   "metadata": {},
   "outputs": [
    {
     "name": "stdout",
     "output_type": "stream",
     "text": [
      "0,1,1,2,3,5,8,"
     ]
    }
   ],
   "source": [
    "f1 = 0\n",
    "f2 = 1\n",
    "fibo = f1+f2\n",
    "print(f1,end=',')\n",
    "print(f2,end=',')\n",
    "for i in range(5):\n",
    "    print(fibo,end=',')\n",
    "    f1 = f2\n",
    "    f2 = fibo\n",
    "    fibo = f1 + f2"
   ]
  },
  {
   "cell_type": "markdown",
   "id": "e49f1a18-c172-4ab7-a3f5-4c321dd8155e",
   "metadata": {},
   "source": [
    "<h4>Top Data Science Language<h4>\n",
    "    \n",
    " - Python\n",
    " - R\n",
    " - SQL\n",
    "\n",
    "<img src=\"Python wallpaper.png\" alt=\"Python\" title=\"Python\" />\n",
    "<img src=\"r-wallpaper.jpg\" alt=\"R\" title=\"R\" />\n",
    "<img src=\"SQL_Wallpaper.jpg\" alt=\"SQL\" title=\"SQL\" />\n",
    "    \n",
    "<s>All is well<s>\n",
    "\n",
    "    \n",
    "[IBM](http://www.ibm.com)"
   ]
  },
  {
   "cell_type": "code",
   "execution_count": null,
   "id": "736114af-71a2-4925-9bd8-d69b440b2714",
   "metadata": {},
   "outputs": [],
   "source": []
  }
 ],
 "metadata": {
  "kernelspec": {
   "display_name": "Python",
   "language": "python",
   "name": "conda-env-python-py"
  },
  "language_info": {
   "codemirror_mode": {
    "name": "ipython",
    "version": 3
   },
   "file_extension": ".py",
   "mimetype": "text/x-python",
   "name": "python",
   "nbconvert_exporter": "python",
   "pygments_lexer": "ipython3",
   "version": "3.7.12"
  }
 },
 "nbformat": 4,
 "nbformat_minor": 5
}
